{
 "cells": [
  {
   "cell_type": "code",
   "execution_count": 28,
   "metadata": {
    "collapsed": true
   },
   "outputs": [],
   "source": [
    "import pandas as pd\n",
    "import numpy as np\n",
    "import matplotlib.pyplot as plt\n",
    "from sklearn import svm"
   ]
  },
  {
   "cell_type": "code",
   "execution_count": 35,
   "metadata": {
    "collapsed": true
   },
   "outputs": [],
   "source": [
    "cancer_data = pd.read_csv('breast-cancer-wisconsin.data.txt', header=-1); \n",
    "cancer_data.columns = ['Sample ID', 'Clump thickness', 'Cell size uniformity', 'Cell shape uniformity', \\\n",
    "                     'Marginal adhesion', \\\n",
    "'Single epithelial cell size', 'Bare nuclei', 'Bland Chromatin', 'Normal nucleoli', \\\n",
    "'Mitoses', 'Class'];\n",
    "cancermat = cancer_data.as_matrix();\n",
    "\n",
    "# get the malignant labels\n",
    "MALIGNANT = cancermat[cancermat[:,-1] == 2];\n",
    "\n",
    "# get the non-malignant labels\n",
    "NONMALIGNANT = cancermat[cancermat[:,-1] == 4];   \n",
    "\n",
    "# ignore the first column in both\n",
    "MALIGNANT = MALIGNANT[:,1:];\n",
    "NONMALIGNANT = NONMALIGNANT[:,1:];\n",
    "MALIGNANT[:,-1] = 1;\n",
    "NONMALIGNANT[:,-1] = 0;"
   ]
  },
  {
   "cell_type": "code",
   "execution_count": 38,
   "metadata": {},
   "outputs": [
    {
     "data": {
      "image/png": "[encoded data removed]",
      "text/plain": [
       "<matplotlib.figure.Figure at 0x1a12a78ba8>"
      ]
     },
     "metadata": {},
     "output_type": "display_data"
    }
   ],
   "source": [
    "# plot thickness and size\n",
    "datacol_1 = 1;\n",
    "datacol_2 = 3;\n",
    "plt.plot(MALIGNANT[:,datacol_1],MALIGNANT[:,datacol_2],'ro');\n",
    "plt.plot(NONMALIGNANT[:,datacol_1],NONMALIGNANT[:,datacol_2],'bo');\n",
    "plt.xlabel(cancer_data.columns[datacol_1]);\n",
    "plt.ylabel(cancer_data.columns[datacol_2]);\n",
    "plt.show()\n"
   ]
  },
  {
   "cell_type": "code",
   "execution_count": 45,
   "metadata": {},
   "outputs": [],
   "source": [
    "X = np.concatenate((MALIGNANT,NONMALIGNANT),axis=0); \n",
    "Y = np.concatenate((np.ones(MALIGNANT.shape[0]),np.zeros(NONMALIGNANT.shape[0])));\n",
    "\n",
    "\n",
    "\n",
    "\n",
    "\n"
   ]
  },
  {
   "cell_type": "code",
   "execution_count": null,
   "metadata": {
    "collapsed": true
   },
   "outputs": [],
   "source": []
  }
 ],
 "metadata": {
  "kernelspec": {
   "display_name": "Python 3",
   "language": "python",
   "name": "python3"
  },
  "language_info": {
   "codemirror_mode": {
    "name": "ipython",
    "version": 3
   },
   "file_extension": ".py",
   "mimetype": "text/x-python",
   "name": "python",
   "nbconvert_exporter": "python",
   "pygments_lexer": "ipython3",
   "version": "3.6.3"
  }
 },
 "nbformat": 4,
 "nbformat_minor": 2
}
